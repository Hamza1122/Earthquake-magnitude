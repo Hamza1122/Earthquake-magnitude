{
  "nbformat": 4,
  "nbformat_minor": 0,
  "metadata": {
    "colab": {
      "name": "Untitled11.ipynb",
      "provenance": [],
      "include_colab_link": true
    },
    "kernelspec": {
      "name": "python3",
      "display_name": "Python 3"
    }
  },
  "cells": [
    {
      "cell_type": "markdown",
      "metadata": {
        "id": "view-in-github",
        "colab_type": "text"
      },
      "source": [
        "<a href=\"https://colab.research.google.com/github/Hamza1122/Earthquake-magnitude/blob/master/Untitled11.ipynb\" target=\"_parent\"><img src=\"https://colab.research.google.com/assets/colab-badge.svg\" alt=\"Open In Colab\"/></a>"
      ]
    },
    {
      "cell_type": "code",
      "metadata": {
        "id": "HDT4DqD97UBL",
        "colab_type": "code",
        "colab": {}
      },
      "source": [
        "#from google.colab import files\n",
        "#uploaded=files.upload()"
      ],
      "execution_count": 0,
      "outputs": []
    },
    {
      "cell_type": "code",
      "metadata": {
        "id": "52wjns5x7nsQ",
        "colab_type": "code",
        "colab": {}
      },
      "source": [
        "import numpy as np\n",
        "import pandas as pd\n",
        "import matplotlib.pyplot as plt\n",
        "import seaborn as sns"
      ],
      "execution_count": 0,
      "outputs": []
    },
    {
      "cell_type": "code",
      "metadata": {
        "id": "7GcOLgTa71rS",
        "colab_type": "code",
        "colab": {
          "base_uri": "https://localhost:8080/",
          "height": 52
        },
        "outputId": "e68949bc-6ffa-49e2-cbd1-9774e46b5bb7"
      },
      "source": [
        "train=pd.read_csv('Indian Earthquakes List Update_Magnitudes.csv',skiprows=10)\n"
      ],
      "execution_count": 133,
      "outputs": [
        {
          "output_type": "stream",
          "text": [
            "/usr/local/lib/python3.6/dist-packages/IPython/core/interactiveshell.py:2718: DtypeWarning: Columns (5,7,9,10,11,12,13,15) have mixed types. Specify dtype option on import or set low_memory=False.\n",
            "  interactivity=interactivity, compiler=compiler, result=result)\n"
          ],
          "name": "stderr"
        }
      ]
    },
    {
      "cell_type": "code",
      "metadata": {
        "id": "tn42G9wIQFPF",
        "colab_type": "code",
        "colab": {}
      },
      "source": [
        ""
      ],
      "execution_count": 0,
      "outputs": []
    },
    {
      "cell_type": "code",
      "metadata": {
        "id": "yC-q8Cku8Nzf",
        "colab_type": "code",
        "colab": {
          "base_uri": "https://localhost:8080/",
          "height": 364
        },
        "outputId": "a7dedddd-00e6-4bc3-90e7-917ed0435ef0"
      },
      "source": [
        "train.head(10)"
      ],
      "execution_count": 134,
      "outputs": [
        {
          "output_type": "execute_result",
          "data": {
            "text/html": [
              "<div>\n",
              "<style scoped>\n",
              "    .dataframe tbody tr th:only-of-type {\n",
              "        vertical-align: middle;\n",
              "    }\n",
              "\n",
              "    .dataframe tbody tr th {\n",
              "        vertical-align: top;\n",
              "    }\n",
              "\n",
              "    .dataframe thead th {\n",
              "        text-align: right;\n",
              "    }\n",
              "</style>\n",
              "<table border=\"1\" class=\"dataframe\">\n",
              "  <thead>\n",
              "    <tr style=\"text-align: right;\">\n",
              "      <th></th>\n",
              "      <th>Unnamed: 0</th>\n",
              "      <th>Unnamed: 1</th>\n",
              "      <th>Unnamed: 2</th>\n",
              "      <th>Unnamed: 3</th>\n",
              "      <th>(UTC)</th>\n",
              "      <th>(IST)</th>\n",
              "      <th>Mw</th>\n",
              "      <th>Mw.1</th>\n",
              "      <th>Mb</th>\n",
              "      <th>Mb.1</th>\n",
              "      <th>Ms</th>\n",
              "      <th>ML</th>\n",
              "      <th>Unnamed: 12</th>\n",
              "      <th>Unnamed: 13</th>\n",
              "      <th>Unnamed: 14</th>\n",
              "      <th>MM</th>\n",
              "      <th>MMI</th>\n",
              "      <th>MME</th>\n",
              "      <th>Unnamed: 18</th>\n",
              "      <th>Unnamed: 19</th>\n",
              "    </tr>\n",
              "  </thead>\n",
              "  <tbody>\n",
              "    <tr>\n",
              "      <th>0</th>\n",
              "      <td>1</td>\n",
              "      <td>-2474</td>\n",
              "      <td>0.0</td>\n",
              "      <td>0.0</td>\n",
              "      <td>NaN</td>\n",
              "      <td>NaN</td>\n",
              "      <td>7.5000</td>\n",
              "      <td>7.5</td>\n",
              "      <td>NaN</td>\n",
              "      <td>6.969202899</td>\n",
              "      <td>7.260619977</td>\n",
              "      <td>7.427072403</td>\n",
              "      <td>71</td>\n",
              "      <td>24</td>\n",
              "      <td>0.0</td>\n",
              "      <td>NaN</td>\n",
              "      <td>NaN</td>\n",
              "      <td>NaN</td>\n",
              "      <td>NaN</td>\n",
              "      <td>Dr STGR</td>\n",
              "    </tr>\n",
              "    <tr>\n",
              "      <th>1</th>\n",
              "      <td>2</td>\n",
              "      <td>-325</td>\n",
              "      <td>0.0</td>\n",
              "      <td>0.0</td>\n",
              "      <td>NaN</td>\n",
              "      <td>NaN</td>\n",
              "      <td>7.5000</td>\n",
              "      <td>7.5</td>\n",
              "      <td>NaN</td>\n",
              "      <td>6.969202899</td>\n",
              "      <td>7.260619977</td>\n",
              "      <td>7.427072403</td>\n",
              "      <td>71</td>\n",
              "      <td>24</td>\n",
              "      <td>0.0</td>\n",
              "      <td>NaN</td>\n",
              "      <td>NaN</td>\n",
              "      <td>NaN</td>\n",
              "      <td>NaN</td>\n",
              "      <td>Dr STGR</td>\n",
              "    </tr>\n",
              "    <tr>\n",
              "      <th>2</th>\n",
              "      <td>3</td>\n",
              "      <td>25</td>\n",
              "      <td>0.0</td>\n",
              "      <td>0.0</td>\n",
              "      <td>NaN</td>\n",
              "      <td>NaN</td>\n",
              "      <td>7.5000</td>\n",
              "      <td>7.5</td>\n",
              "      <td>NaN</td>\n",
              "      <td>6.969202899</td>\n",
              "      <td>7.260619977</td>\n",
              "      <td>7.427072403</td>\n",
              "      <td>72.9</td>\n",
              "      <td>33.72</td>\n",
              "      <td>0.0</td>\n",
              "      <td>NaN</td>\n",
              "      <td>NaN</td>\n",
              "      <td>NaN</td>\n",
              "      <td>NaN</td>\n",
              "      <td>Dr STGR</td>\n",
              "    </tr>\n",
              "    <tr>\n",
              "      <th>3</th>\n",
              "      <td>4</td>\n",
              "      <td>26</td>\n",
              "      <td>5.0</td>\n",
              "      <td>10.0</td>\n",
              "      <td>08.19.10.0</td>\n",
              "      <td>NaN</td>\n",
              "      <td>6.1397</td>\n",
              "      <td>6.1397</td>\n",
              "      <td>5.737047101</td>\n",
              "      <td>5.737047101</td>\n",
              "      <td>5.698851894</td>\n",
              "      <td>5.999685205</td>\n",
              "      <td>17.3</td>\n",
              "      <td>80.1</td>\n",
              "      <td>NaN</td>\n",
              "      <td>NaN</td>\n",
              "      <td>NaN</td>\n",
              "      <td>NaN</td>\n",
              "      <td>NaN</td>\n",
              "      <td>NEIC</td>\n",
              "    </tr>\n",
              "    <tr>\n",
              "      <th>4</th>\n",
              "      <td>5</td>\n",
              "      <td>26</td>\n",
              "      <td>5.0</td>\n",
              "      <td>10.0</td>\n",
              "      <td>08.19.10.0</td>\n",
              "      <td>NaN</td>\n",
              "      <td>6.1397</td>\n",
              "      <td>6.1397</td>\n",
              "      <td>5.737047101</td>\n",
              "      <td>5.737047101</td>\n",
              "      <td>6.075520196</td>\n",
              "      <td>5.999685205</td>\n",
              "      <td>26</td>\n",
              "      <td>97</td>\n",
              "      <td>80.0</td>\n",
              "      <td>NaN</td>\n",
              "      <td>NaN</td>\n",
              "      <td>NaN</td>\n",
              "      <td>Myanmar</td>\n",
              "      <td>G-R</td>\n",
              "    </tr>\n",
              "    <tr>\n",
              "      <th>5</th>\n",
              "      <td>6</td>\n",
              "      <td>50</td>\n",
              "      <td>0.0</td>\n",
              "      <td>0.0</td>\n",
              "      <td>NaN</td>\n",
              "      <td>NaN</td>\n",
              "      <td>7.0000</td>\n",
              "      <td>7</td>\n",
              "      <td>NaN</td>\n",
              "      <td>6.516304348</td>\n",
              "      <td>6.686567164</td>\n",
              "      <td>6.902413431</td>\n",
              "      <td>69.5</td>\n",
              "      <td>37.1</td>\n",
              "      <td>0.0</td>\n",
              "      <td>NaN</td>\n",
              "      <td>NaN</td>\n",
              "      <td>NaN</td>\n",
              "      <td>NaN</td>\n",
              "      <td>Dr STGR</td>\n",
              "    </tr>\n",
              "    <tr>\n",
              "      <th>6</th>\n",
              "      <td>7</td>\n",
              "      <td>110</td>\n",
              "      <td>0.0</td>\n",
              "      <td>0.0</td>\n",
              "      <td>NaN</td>\n",
              "      <td>NaN</td>\n",
              "      <td>6.5000</td>\n",
              "      <td>6.5</td>\n",
              "      <td>NaN</td>\n",
              "      <td>6.063405797</td>\n",
              "      <td>6.112514351</td>\n",
              "      <td>6.37775446</td>\n",
              "      <td>76.47</td>\n",
              "      <td>18.1</td>\n",
              "      <td>0.0</td>\n",
              "      <td>NaN</td>\n",
              "      <td>NaN</td>\n",
              "      <td>NaN</td>\n",
              "      <td>NaN</td>\n",
              "      <td>Dr STGR</td>\n",
              "    </tr>\n",
              "    <tr>\n",
              "      <th>7</th>\n",
              "      <td>8</td>\n",
              "      <td>250</td>\n",
              "      <td>0.0</td>\n",
              "      <td>0.0</td>\n",
              "      <td>NaN</td>\n",
              "      <td>NaN</td>\n",
              "      <td>8.5000</td>\n",
              "      <td>8.5</td>\n",
              "      <td>NaN</td>\n",
              "      <td>7.875</td>\n",
              "      <td>8.408725603</td>\n",
              "      <td>8.476390346</td>\n",
              "      <td>74.5</td>\n",
              "      <td>34.6</td>\n",
              "      <td>0.0</td>\n",
              "      <td>NaN</td>\n",
              "      <td>NaN</td>\n",
              "      <td>NaN</td>\n",
              "      <td>NaN</td>\n",
              "      <td>Dr STGR</td>\n",
              "    </tr>\n",
              "    <tr>\n",
              "      <th>8</th>\n",
              "      <td>9</td>\n",
              "      <td>260</td>\n",
              "      <td>0.0</td>\n",
              "      <td>0.0</td>\n",
              "      <td>NaN</td>\n",
              "      <td>NaN</td>\n",
              "      <td>8.0000</td>\n",
              "      <td>8</td>\n",
              "      <td>NaN</td>\n",
              "      <td>7.422101449</td>\n",
              "      <td>7.83467279</td>\n",
              "      <td>7.951731375</td>\n",
              "      <td>77.2</td>\n",
              "      <td>30.5</td>\n",
              "      <td>0.0</td>\n",
              "      <td>NaN</td>\n",
              "      <td>NaN</td>\n",
              "      <td>NaN</td>\n",
              "      <td>NaN</td>\n",
              "      <td>Dr STGR</td>\n",
              "    </tr>\n",
              "    <tr>\n",
              "      <th>9</th>\n",
              "      <td>10</td>\n",
              "      <td>819</td>\n",
              "      <td>6.0</td>\n",
              "      <td>1.0</td>\n",
              "      <td>NaN</td>\n",
              "      <td>NaN</td>\n",
              "      <td>7.3000</td>\n",
              "      <td>7.3</td>\n",
              "      <td>NaN</td>\n",
              "      <td>6.788043478</td>\n",
              "      <td>7.030998852</td>\n",
              "      <td>7.217208814</td>\n",
              "      <td>65.4</td>\n",
              "      <td>36.4</td>\n",
              "      <td>0.0</td>\n",
              "      <td>NaN</td>\n",
              "      <td>NaN</td>\n",
              "      <td>NaN</td>\n",
              "      <td>NaN</td>\n",
              "      <td>Dr STGR</td>\n",
              "    </tr>\n",
              "  </tbody>\n",
              "</table>\n",
              "</div>"
            ],
            "text/plain": [
              "   Unnamed: 0  Unnamed: 1  Unnamed: 2  ...  MME Unnamed: 18 Unnamed: 19\n",
              "0           1       -2474         0.0  ...  NaN         NaN     Dr STGR\n",
              "1           2        -325         0.0  ...  NaN         NaN     Dr STGR\n",
              "2           3          25         0.0  ...  NaN         NaN     Dr STGR\n",
              "3           4          26         5.0  ...  NaN         NaN        NEIC\n",
              "4           5          26         5.0  ...  NaN     Myanmar         G-R\n",
              "5           6          50         0.0  ...  NaN         NaN     Dr STGR\n",
              "6           7         110         0.0  ...  NaN         NaN     Dr STGR\n",
              "7           8         250         0.0  ...  NaN         NaN     Dr STGR\n",
              "8           9         260         0.0  ...  NaN         NaN     Dr STGR\n",
              "9          10         819         6.0  ...  NaN         NaN     Dr STGR\n",
              "\n",
              "[10 rows x 20 columns]"
            ]
          },
          "metadata": {
            "tags": []
          },
          "execution_count": 134
        }
      ]
    },
    {
      "cell_type": "code",
      "metadata": {
        "id": "iERk3nZZ99-f",
        "colab_type": "code",
        "colab": {
          "base_uri": "https://localhost:8080/",
          "height": 87
        },
        "outputId": "f7f5d8b6-f534-4107-ff4b-5a208371c89e"
      },
      "source": [
        "train.rename(columns={'Unnamed: 1':'YEAR','Unnamed: 2':'MONTH','Unnamed: 3':'DATE','Unnamed: 19':'REFERENCE','Unnamed: 18':'LOCATION',\n",
        "                      'Unnamed: 12':'LATITUDE','Unnamed: 14':'LONGITUDE','Unnamed: 13':'DEPTH'\n",
        "\n",
        "},inplace=True)\n",
        "train.columns\n"
      ],
      "execution_count": 135,
      "outputs": [
        {
          "output_type": "execute_result",
          "data": {
            "text/plain": [
              "Index(['Unnamed: 0', 'YEAR', 'MONTH', 'DATE', '(UTC)', '(IST)', 'Mw', 'Mw.1',\n",
              "       'Mb', 'Mb.1', 'Ms', 'ML', 'LATITUDE', 'DEPTH', 'LONGITUDE', 'MM', 'MMI',\n",
              "       'MME', 'LOCATION', 'REFERENCE'],\n",
              "      dtype='object')"
            ]
          },
          "metadata": {
            "tags": []
          },
          "execution_count": 135
        }
      ]
    },
    {
      "cell_type": "code",
      "metadata": {
        "id": "SQETVw5HASJ6",
        "colab_type": "code",
        "colab": {}
      },
      "source": [
        "del train['Unnamed: 0']\n",
        "del train['REFERENCE']\n",
        "del train['Mw.1']\n",
        "del train['Mb']\n",
        "del train['MM']\n",
        "del train['MMI']\n",
        "del train['MME']"
      ],
      "execution_count": 0,
      "outputs": []
    },
    {
      "cell_type": "code",
      "metadata": {
        "id": "YOSq8xNiM3LW",
        "colab_type": "code",
        "colab": {}
      },
      "source": [
        ""
      ],
      "execution_count": 0,
      "outputs": []
    },
    {
      "cell_type": "code",
      "metadata": {
        "id": "_qB4btY5NORj",
        "colab_type": "code",
        "colab": {
          "base_uri": "https://localhost:8080/",
          "height": 34
        },
        "outputId": "a40a8977-9e9a-499c-bc6c-0e168f459bc2"
      },
      "source": [
        "train.shape"
      ],
      "execution_count": 137,
      "outputs": [
        {
          "output_type": "execute_result",
          "data": {
            "text/plain": [
              "(52989, 13)"
            ]
          },
          "metadata": {
            "tags": []
          },
          "execution_count": 137
        }
      ]
    },
    {
      "cell_type": "code",
      "metadata": {
        "id": "wQTz9o7S8TLv",
        "colab_type": "code",
        "colab": {
          "base_uri": "https://localhost:8080/",
          "height": 377
        },
        "outputId": "f088c653-e4ac-48a0-8b02-44e28906fc5b"
      },
      "source": [
        "train.describe(include='all')"
      ],
      "execution_count": 138,
      "outputs": [
        {
          "output_type": "execute_result",
          "data": {
            "text/html": [
              "<div>\n",
              "<style scoped>\n",
              "    .dataframe tbody tr th:only-of-type {\n",
              "        vertical-align: middle;\n",
              "    }\n",
              "\n",
              "    .dataframe tbody tr th {\n",
              "        vertical-align: top;\n",
              "    }\n",
              "\n",
              "    .dataframe thead th {\n",
              "        text-align: right;\n",
              "    }\n",
              "</style>\n",
              "<table border=\"1\" class=\"dataframe\">\n",
              "  <thead>\n",
              "    <tr style=\"text-align: right;\">\n",
              "      <th></th>\n",
              "      <th>YEAR</th>\n",
              "      <th>MONTH</th>\n",
              "      <th>DATE</th>\n",
              "      <th>(UTC)</th>\n",
              "      <th>(IST)</th>\n",
              "      <th>Mw</th>\n",
              "      <th>Mb.1</th>\n",
              "      <th>Ms</th>\n",
              "      <th>ML</th>\n",
              "      <th>LATITUDE</th>\n",
              "      <th>DEPTH</th>\n",
              "      <th>LONGITUDE</th>\n",
              "      <th>LOCATION</th>\n",
              "    </tr>\n",
              "  </thead>\n",
              "  <tbody>\n",
              "    <tr>\n",
              "      <th>count</th>\n",
              "      <td>52989.000000</td>\n",
              "      <td>52969.000000</td>\n",
              "      <td>52932.000000</td>\n",
              "      <td>21186</td>\n",
              "      <td>426</td>\n",
              "      <td>40935.000000</td>\n",
              "      <td>50497</td>\n",
              "      <td>52823</td>\n",
              "      <td>52823</td>\n",
              "      <td>52989.0</td>\n",
              "      <td>52989.0</td>\n",
              "      <td>50811.000000</td>\n",
              "      <td>9374</td>\n",
              "    </tr>\n",
              "    <tr>\n",
              "      <th>unique</th>\n",
              "      <td>NaN</td>\n",
              "      <td>NaN</td>\n",
              "      <td>NaN</td>\n",
              "      <td>18093</td>\n",
              "      <td>425</td>\n",
              "      <td>NaN</td>\n",
              "      <td>374</td>\n",
              "      <td>663</td>\n",
              "      <td>374</td>\n",
              "      <td>14445.0</td>\n",
              "      <td>14617.0</td>\n",
              "      <td>NaN</td>\n",
              "      <td>1613</td>\n",
              "    </tr>\n",
              "    <tr>\n",
              "      <th>top</th>\n",
              "      <td>NaN</td>\n",
              "      <td>NaN</td>\n",
              "      <td>NaN</td>\n",
              "      <td>..</td>\n",
              "      <td>7:25:33</td>\n",
              "      <td>NaN</td>\n",
              "      <td>4.070652174</td>\n",
              "      <td>3.586681975</td>\n",
              "      <td>4.069254984</td>\n",
              "      <td>70.5</td>\n",
              "      <td>36.5</td>\n",
              "      <td>NaN</td>\n",
              "      <td>Myanmar</td>\n",
              "    </tr>\n",
              "    <tr>\n",
              "      <th>freq</th>\n",
              "      <td>NaN</td>\n",
              "      <td>NaN</td>\n",
              "      <td>NaN</td>\n",
              "      <td>8</td>\n",
              "      <td>2</td>\n",
              "      <td>NaN</td>\n",
              "      <td>2961</td>\n",
              "      <td>2958</td>\n",
              "      <td>2961</td>\n",
              "      <td>120.0</td>\n",
              "      <td>224.0</td>\n",
              "      <td>NaN</td>\n",
              "      <td>1581</td>\n",
              "    </tr>\n",
              "    <tr>\n",
              "      <th>mean</th>\n",
              "      <td>1991.584669</td>\n",
              "      <td>6.342672</td>\n",
              "      <td>16.393958</td>\n",
              "      <td>NaN</td>\n",
              "      <td>NaN</td>\n",
              "      <td>4.537564</td>\n",
              "      <td>NaN</td>\n",
              "      <td>NaN</td>\n",
              "      <td>NaN</td>\n",
              "      <td>NaN</td>\n",
              "      <td>NaN</td>\n",
              "      <td>45.569867</td>\n",
              "      <td>NaN</td>\n",
              "    </tr>\n",
              "    <tr>\n",
              "      <th>std</th>\n",
              "      <td>41.964962</td>\n",
              "      <td>3.640914</td>\n",
              "      <td>8.969178</td>\n",
              "      <td>NaN</td>\n",
              "      <td>NaN</td>\n",
              "      <td>0.625875</td>\n",
              "      <td>NaN</td>\n",
              "      <td>NaN</td>\n",
              "      <td>NaN</td>\n",
              "      <td>NaN</td>\n",
              "      <td>NaN</td>\n",
              "      <td>55.517009</td>\n",
              "      <td>NaN</td>\n",
              "    </tr>\n",
              "    <tr>\n",
              "      <th>min</th>\n",
              "      <td>-2474.000000</td>\n",
              "      <td>0.000000</td>\n",
              "      <td>0.000000</td>\n",
              "      <td>NaN</td>\n",
              "      <td>NaN</td>\n",
              "      <td>2.000000</td>\n",
              "      <td>NaN</td>\n",
              "      <td>NaN</td>\n",
              "      <td>NaN</td>\n",
              "      <td>NaN</td>\n",
              "      <td>NaN</td>\n",
              "      <td>0.000000</td>\n",
              "      <td>NaN</td>\n",
              "    </tr>\n",
              "    <tr>\n",
              "      <th>25%</th>\n",
              "      <td>1986.000000</td>\n",
              "      <td>3.000000</td>\n",
              "      <td>9.000000</td>\n",
              "      <td>NaN</td>\n",
              "      <td>NaN</td>\n",
              "      <td>4.200000</td>\n",
              "      <td>NaN</td>\n",
              "      <td>NaN</td>\n",
              "      <td>NaN</td>\n",
              "      <td>NaN</td>\n",
              "      <td>NaN</td>\n",
              "      <td>10.000000</td>\n",
              "      <td>NaN</td>\n",
              "    </tr>\n",
              "    <tr>\n",
              "      <th>50%</th>\n",
              "      <td>1999.000000</td>\n",
              "      <td>6.000000</td>\n",
              "      <td>16.000000</td>\n",
              "      <td>NaN</td>\n",
              "      <td>NaN</td>\n",
              "      <td>4.400000</td>\n",
              "      <td>NaN</td>\n",
              "      <td>NaN</td>\n",
              "      <td>NaN</td>\n",
              "      <td>NaN</td>\n",
              "      <td>NaN</td>\n",
              "      <td>33.000000</td>\n",
              "      <td>NaN</td>\n",
              "    </tr>\n",
              "    <tr>\n",
              "      <th>75%</th>\n",
              "      <td>2005.000000</td>\n",
              "      <td>10.000000</td>\n",
              "      <td>25.000000</td>\n",
              "      <td>NaN</td>\n",
              "      <td>NaN</td>\n",
              "      <td>4.800000</td>\n",
              "      <td>NaN</td>\n",
              "      <td>NaN</td>\n",
              "      <td>NaN</td>\n",
              "      <td>NaN</td>\n",
              "      <td>NaN</td>\n",
              "      <td>55.000000</td>\n",
              "      <td>NaN</td>\n",
              "    </tr>\n",
              "    <tr>\n",
              "      <th>max</th>\n",
              "      <td>2019.000000</td>\n",
              "      <td>12.000000</td>\n",
              "      <td>31.000000</td>\n",
              "      <td>NaN</td>\n",
              "      <td>NaN</td>\n",
              "      <td>9.100000</td>\n",
              "      <td>NaN</td>\n",
              "      <td>NaN</td>\n",
              "      <td>NaN</td>\n",
              "      <td>NaN</td>\n",
              "      <td>NaN</td>\n",
              "      <td>831.200000</td>\n",
              "      <td>NaN</td>\n",
              "    </tr>\n",
              "  </tbody>\n",
              "</table>\n",
              "</div>"
            ],
            "text/plain": [
              "                YEAR         MONTH  ...     LONGITUDE LOCATION\n",
              "count   52989.000000  52969.000000  ...  50811.000000     9374\n",
              "unique           NaN           NaN  ...           NaN     1613\n",
              "top              NaN           NaN  ...           NaN  Myanmar\n",
              "freq             NaN           NaN  ...           NaN     1581\n",
              "mean     1991.584669      6.342672  ...     45.569867      NaN\n",
              "std        41.964962      3.640914  ...     55.517009      NaN\n",
              "min     -2474.000000      0.000000  ...      0.000000      NaN\n",
              "25%      1986.000000      3.000000  ...     10.000000      NaN\n",
              "50%      1999.000000      6.000000  ...     33.000000      NaN\n",
              "75%      2005.000000     10.000000  ...     55.000000      NaN\n",
              "max      2019.000000     12.000000  ...    831.200000      NaN\n",
              "\n",
              "[11 rows x 13 columns]"
            ]
          },
          "metadata": {
            "tags": []
          },
          "execution_count": 138
        }
      ]
    },
    {
      "cell_type": "code",
      "metadata": {
        "id": "alHkwNs8DLRf",
        "colab_type": "code",
        "colab": {
          "base_uri": "https://localhost:8080/",
          "height": 265
        },
        "outputId": "5d260c90-c24c-4f58-c58e-35f653e84257"
      },
      "source": [
        "train.dtypes\n"
      ],
      "execution_count": 139,
      "outputs": [
        {
          "output_type": "execute_result",
          "data": {
            "text/plain": [
              "YEAR           int64\n",
              "MONTH        float64\n",
              "DATE         float64\n",
              "(UTC)         object\n",
              "(IST)         object\n",
              "Mw           float64\n",
              "Mb.1          object\n",
              "Ms            object\n",
              "ML            object\n",
              "LATITUDE      object\n",
              "DEPTH         object\n",
              "LONGITUDE    float64\n",
              "LOCATION      object\n",
              "dtype: object"
            ]
          },
          "metadata": {
            "tags": []
          },
          "execution_count": 139
        }
      ]
    },
    {
      "cell_type": "code",
      "metadata": {
        "id": "ICX_g_iOO_4A",
        "colab_type": "code",
        "colab": {}
      },
      "source": [
        "columns=['Mw','Mb.1','Ms','ML','LATITUDE','DEPTH']\n",
        "\n",
        "for x in columns:\n",
        "  train[x]=pd.to_numeric(train[x], errors='coerce').astype('float')\n"
      ],
      "execution_count": 0,
      "outputs": []
    },
    {
      "cell_type": "code",
      "metadata": {
        "id": "tbx0HBNFS0Qg",
        "colab_type": "code",
        "colab": {
          "base_uri": "https://localhost:8080/",
          "height": 265
        },
        "outputId": "08c63464-b4d7-4e02-9eec-002759ef69e6"
      },
      "source": [
        "train.dtypes"
      ],
      "execution_count": 143,
      "outputs": [
        {
          "output_type": "execute_result",
          "data": {
            "text/plain": [
              "YEAR           int64\n",
              "MONTH        float64\n",
              "DATE         float64\n",
              "(UTC)         object\n",
              "(IST)         object\n",
              "Mw           float64\n",
              "Mb.1         float64\n",
              "Ms           float64\n",
              "ML           float64\n",
              "LATITUDE     float64\n",
              "DEPTH        float64\n",
              "LONGITUDE    float64\n",
              "LOCATION      object\n",
              "dtype: object"
            ]
          },
          "metadata": {
            "tags": []
          },
          "execution_count": 143
        }
      ]
    },
    {
      "cell_type": "code",
      "metadata": {
        "id": "t2ytfdIKE1CN",
        "colab_type": "code",
        "colab": {
          "base_uri": "https://localhost:8080/",
          "height": 837
        },
        "outputId": "5943fed5-c1e5-4cd4-b1c1-3faff99175cd"
      },
      "source": [
        "train.hist(figsize=(10,10))"
      ],
      "execution_count": 144,
      "outputs": [
        {
          "output_type": "execute_result",
          "data": {
            "text/plain": [
              "array([[<matplotlib.axes._subplots.AxesSubplot object at 0x7f70920a6b70>,\n",
              "        <matplotlib.axes._subplots.AxesSubplot object at 0x7f7091eca470>,\n",
              "        <matplotlib.axes._subplots.AxesSubplot object at 0x7f7091e72898>],\n",
              "       [<matplotlib.axes._subplots.AxesSubplot object at 0x7f7091ea5e48>,\n",
              "        <matplotlib.axes._subplots.AxesSubplot object at 0x7f7091e60438>,\n",
              "        <matplotlib.axes._subplots.AxesSubplot object at 0x7f7091e119e8>],\n",
              "       [<matplotlib.axes._subplots.AxesSubplot object at 0x7f7091dc2f98>,\n",
              "        <matplotlib.axes._subplots.AxesSubplot object at 0x7f7091d7e5c0>,\n",
              "        <matplotlib.axes._subplots.AxesSubplot object at 0x7f7091d7e5f8>],\n",
              "       [<matplotlib.axes._subplots.AxesSubplot object at 0x7f7091d6d128>,\n",
              "        <matplotlib.axes._subplots.AxesSubplot object at 0x7f7091d1f6d8>,\n",
              "        <matplotlib.axes._subplots.AxesSubplot object at 0x7f7091cd1c88>]],\n",
              "      dtype=object)"
            ]
          },
          "metadata": {
            "tags": []
          },
          "execution_count": 144
        },
        {
          "output_type": "display_data",
          "data": {
            "image/png": "[encoded data removed]",
            "text/plain": [
              "<Figure size 720x720 with 12 Axes>"
            ]
          },
          "metadata": {
            "tags": []
          }
        }
      ]
    },
    {
      "cell_type": "code",
      "metadata": {
        "id": "5tEk60Xp9xXh",
        "colab_type": "code",
        "colab": {
          "base_uri": "https://localhost:8080/",
          "height": 965
        },
        "outputId": "e26bbc0e-f35a-4bf4-d3c0-d74f4cf31c4a"
      },
      "source": [
        "plt.figure(figsize=(20,10))\n",
        "c= train.corr()\n",
        "sns.heatmap(c,cmap='BrBG',annot=True)\n",
        "c"
      ],
      "execution_count": 145,
      "outputs": [
        {
          "output_type": "execute_result",
          "data": {
            "text/html": [
              "<div>\n",
              "<style scoped>\n",
              "    .dataframe tbody tr th:only-of-type {\n",
              "        vertical-align: middle;\n",
              "    }\n",
              "\n",
              "    .dataframe tbody tr th {\n",
              "        vertical-align: top;\n",
              "    }\n",
              "\n",
              "    .dataframe thead th {\n",
              "        text-align: right;\n",
              "    }\n",
              "</style>\n",
              "<table border=\"1\" class=\"dataframe\">\n",
              "  <thead>\n",
              "    <tr style=\"text-align: right;\">\n",
              "      <th></th>\n",
              "      <th>YEAR</th>\n",
              "      <th>MONTH</th>\n",
              "      <th>DATE</th>\n",
              "      <th>Mw</th>\n",
              "      <th>Mb.1</th>\n",
              "      <th>Ms</th>\n",
              "      <th>ML</th>\n",
              "      <th>LATITUDE</th>\n",
              "      <th>DEPTH</th>\n",
              "      <th>LONGITUDE</th>\n",
              "    </tr>\n",
              "  </thead>\n",
              "  <tbody>\n",
              "    <tr>\n",
              "      <th>YEAR</th>\n",
              "      <td>1.000000</td>\n",
              "      <td>0.011090</td>\n",
              "      <td>0.046662</td>\n",
              "      <td>-0.221538</td>\n",
              "      <td>-0.199898</td>\n",
              "      <td>-0.050877</td>\n",
              "      <td>-0.030676</td>\n",
              "      <td>0.053361</td>\n",
              "      <td>-0.056389</td>\n",
              "      <td>-0.021978</td>\n",
              "    </tr>\n",
              "    <tr>\n",
              "      <th>MONTH</th>\n",
              "      <td>0.011090</td>\n",
              "      <td>1.000000</td>\n",
              "      <td>0.006670</td>\n",
              "      <td>0.014754</td>\n",
              "      <td>0.010486</td>\n",
              "      <td>-0.015932</td>\n",
              "      <td>-0.018316</td>\n",
              "      <td>0.010000</td>\n",
              "      <td>0.007652</td>\n",
              "      <td>0.009974</td>\n",
              "    </tr>\n",
              "    <tr>\n",
              "      <th>DATE</th>\n",
              "      <td>0.046662</td>\n",
              "      <td>0.006670</td>\n",
              "      <td>1.000000</td>\n",
              "      <td>0.009056</td>\n",
              "      <td>0.024278</td>\n",
              "      <td>0.017920</td>\n",
              "      <td>0.016250</td>\n",
              "      <td>0.006476</td>\n",
              "      <td>-0.019857</td>\n",
              "      <td>-0.032790</td>\n",
              "    </tr>\n",
              "    <tr>\n",
              "      <th>Mw</th>\n",
              "      <td>-0.221538</td>\n",
              "      <td>0.014754</td>\n",
              "      <td>0.009056</td>\n",
              "      <td>1.000000</td>\n",
              "      <td>0.999627</td>\n",
              "      <td>0.997005</td>\n",
              "      <td>1.000000</td>\n",
              "      <td>0.033814</td>\n",
              "      <td>-0.022285</td>\n",
              "      <td>-0.030722</td>\n",
              "    </tr>\n",
              "    <tr>\n",
              "      <th>Mb.1</th>\n",
              "      <td>-0.199898</td>\n",
              "      <td>0.010486</td>\n",
              "      <td>0.024278</td>\n",
              "      <td>0.999627</td>\n",
              "      <td>1.000000</td>\n",
              "      <td>0.994681</td>\n",
              "      <td>0.999688</td>\n",
              "      <td>-0.075033</td>\n",
              "      <td>0.075727</td>\n",
              "      <td>-0.027934</td>\n",
              "    </tr>\n",
              "    <tr>\n",
              "      <th>Ms</th>\n",
              "      <td>-0.050877</td>\n",
              "      <td>-0.015932</td>\n",
              "      <td>0.017920</td>\n",
              "      <td>0.997005</td>\n",
              "      <td>0.994681</td>\n",
              "      <td>1.000000</td>\n",
              "      <td>0.992811</td>\n",
              "      <td>0.127503</td>\n",
              "      <td>-0.118889</td>\n",
              "      <td>-0.014172</td>\n",
              "    </tr>\n",
              "    <tr>\n",
              "      <th>ML</th>\n",
              "      <td>-0.030676</td>\n",
              "      <td>-0.018316</td>\n",
              "      <td>0.016250</td>\n",
              "      <td>1.000000</td>\n",
              "      <td>0.999688</td>\n",
              "      <td>0.992811</td>\n",
              "      <td>1.000000</td>\n",
              "      <td>0.169755</td>\n",
              "      <td>-0.160438</td>\n",
              "      <td>-0.011664</td>\n",
              "    </tr>\n",
              "    <tr>\n",
              "      <th>LATITUDE</th>\n",
              "      <td>0.053361</td>\n",
              "      <td>0.010000</td>\n",
              "      <td>0.006476</td>\n",
              "      <td>0.033814</td>\n",
              "      <td>-0.075033</td>\n",
              "      <td>0.127503</td>\n",
              "      <td>0.169755</td>\n",
              "      <td>1.000000</td>\n",
              "      <td>-0.952804</td>\n",
              "      <td>-0.050353</td>\n",
              "    </tr>\n",
              "    <tr>\n",
              "      <th>DEPTH</th>\n",
              "      <td>-0.056389</td>\n",
              "      <td>0.007652</td>\n",
              "      <td>-0.019857</td>\n",
              "      <td>-0.022285</td>\n",
              "      <td>0.075727</td>\n",
              "      <td>-0.118889</td>\n",
              "      <td>-0.160438</td>\n",
              "      <td>-0.952804</td>\n",
              "      <td>1.000000</td>\n",
              "      <td>0.066967</td>\n",
              "    </tr>\n",
              "    <tr>\n",
              "      <th>LONGITUDE</th>\n",
              "      <td>-0.021978</td>\n",
              "      <td>0.009974</td>\n",
              "      <td>-0.032790</td>\n",
              "      <td>-0.030722</td>\n",
              "      <td>-0.027934</td>\n",
              "      <td>-0.014172</td>\n",
              "      <td>-0.011664</td>\n",
              "      <td>-0.050353</td>\n",
              "      <td>0.066967</td>\n",
              "      <td>1.000000</td>\n",
              "    </tr>\n",
              "  </tbody>\n",
              "</table>\n",
              "</div>"
            ],
            "text/plain": [
              "               YEAR     MONTH      DATE  ...  LATITUDE     DEPTH  LONGITUDE\n",
              "YEAR       1.000000  0.011090  0.046662  ...  0.053361 -0.056389  -0.021978\n",
              "MONTH      0.011090  1.000000  0.006670  ...  0.010000  0.007652   0.009974\n",
              "DATE       0.046662  0.006670  1.000000  ...  0.006476 -0.019857  -0.032790\n",
              "Mw        -0.221538  0.014754  0.009056  ...  0.033814 -0.022285  -0.030722\n",
              "Mb.1      -0.199898  0.010486  0.024278  ... -0.075033  0.075727  -0.027934\n",
              "Ms        -0.050877 -0.015932  0.017920  ...  0.127503 -0.118889  -0.014172\n",
              "ML        -0.030676 -0.018316  0.016250  ...  0.169755 -0.160438  -0.011664\n",
              "LATITUDE   0.053361  0.010000  0.006476  ...  1.000000 -0.952804  -0.050353\n",
              "DEPTH     -0.056389  0.007652 -0.019857  ... -0.952804  1.000000   0.066967\n",
              "LONGITUDE -0.021978  0.009974 -0.032790  ... -0.050353  0.066967   1.000000\n",
              "\n",
              "[10 rows x 10 columns]"
            ]
          },
          "metadata": {
            "tags": []
          },
          "execution_count": 145
        },
        {
          "output_type": "display_data",
          "data": {
            "image/png": "[encoded data removed]",
            "text/plain": [
              "<Figure size 1440x720 with 2 Axes>"
            ]
          },
          "metadata": {
            "tags": []
          }
        }
      ]
    },
    {
      "cell_type": "code",
      "metadata": {
        "id": "j37L-yUXCsxS",
        "colab_type": "code",
        "colab": {}
      },
      "source": [
        ""
      ],
      "execution_count": 0,
      "outputs": []
    },
    {
      "cell_type": "code",
      "metadata": {
        "id": "y836vBF9EJ4_",
        "colab_type": "code",
        "colab": {
          "base_uri": "https://localhost:8080/",
          "height": 278
        },
        "outputId": "7578e3c1-6aac-4e61-c236-3361c65e73ce"
      },
      "source": [
        "ax = sns.scatterplot(x=\"Mb.1\", y=\"Mw\", data=train)"
      ],
      "execution_count": 152,
      "outputs": [
        {
          "output_type": "display_data",
          "data": {
            "image/png": "[encoded data removed]",
            "text/plain": [
              "<Figure size 432x288 with 1 Axes>"
            ]
          },
          "metadata": {
            "tags": []
          }
        }
      ]
    },
    {
      "cell_type": "code",
      "metadata": {
        "id": "dbzUqQ1EUm-D",
        "colab_type": "code",
        "colab": {
          "base_uri": "https://localhost:8080/",
          "height": 278
        },
        "outputId": "f7c50089-9373-4f55-f6a1-fd28b74a372f"
      },
      "source": [
        "ax = sns.scatterplot(x=\"Mb.1\", y=\"Mw\",data=train)"
      ],
      "execution_count": 154,
      "outputs": [
        {
          "output_type": "display_data",
          "data": {
            "image/png": "[encoded data removed]",
            "text/plain": [
              "<Figure size 432x288 with 1 Axes>"
            ]
          },
          "metadata": {
            "tags": []
          }
        }
      ]
    },
    {
      "cell_type": "code",
      "metadata": {
        "id": "wxh6c3rKEZ8S",
        "colab_type": "code",
        "colab": {}
      },
      "source": [
        "duplicate_rows_df =train[train.duplicated()]\n",
        "print('number of duplicate rows', duplicate_rows_df.shape)\n"
      ],
      "execution_count": 0,
      "outputs": []
    },
    {
      "cell_type": "code",
      "metadata": {
        "id": "WBs-eqC6NWsg",
        "colab_type": "code",
        "colab": {}
      },
      "source": [
        "train = train.drop_duplicates()\n",
        "train.head(5)"
      ],
      "execution_count": 0,
      "outputs": []
    }
  ]
}