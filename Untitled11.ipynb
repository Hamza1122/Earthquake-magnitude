{
  "nbformat": 4,
  "nbformat_minor": 0,
  "metadata": {
    "colab": {
      "name": "Untitled11.ipynb",
      "provenance": [],
      "include_colab_link": true
    },
    "kernelspec": {
      "name": "python3",
      "display_name": "Python 3"
    }
  },
  "cells": [
    {
      "cell_type": "markdown",
      "metadata": {
        "id": "view-in-github",
        "colab_type": "text"
      },
      "source": [
        "<a href=\"https://colab.research.google.com/github/Hamza1122/Earthquake-magnitude/blob/master/Untitled11.ipynb\" target=\"_parent\"><img src=\"https://colab.research.google.com/assets/colab-badge.svg\" alt=\"Open In Colab\"/></a>"
      ]
    },
    {
      "cell_type": "code",
      "metadata": {
        "id": "HDT4DqD97UBL",
        "colab_type": "code",
        "colab": {}
      },
      "source": [
        "#from google.colab import files\n",
        "#uploaded=files.upload()"
      ],
      "execution_count": 0,
      "outputs": []
    },
    {
      "cell_type": "code",
      "metadata": {
        "id": "52wjns5x7nsQ",
        "colab_type": "code",
        "colab": {}
      },
      "source": [
        "import numpy as np\n",
        "import pandas as pd\n",
        "import matplotlib.pyplot as plt\n",
        "import seaborn as sns"
      ],
      "execution_count": 0,
      "outputs": []
    },
    {
      "cell_type": "code",
      "metadata": {
        "id": "7GcOLgTa71rS",
        "colab_type": "code",
        "colab": {
          "base_uri": "https://localhost:8080/",
          "height": 52
        },
        "outputId": "6b876eab-c6e0-415c-a378-7e12ef685f21"
      },
      "source": [
        "train=pd.read_csv('Indian Earthquakes List Update_Magnitudes.csv',skiprows=10)\n"
      ],
      "execution_count": 8,
      "outputs": [
        {
          "output_type": "stream",
          "text": [
            "/usr/local/lib/python3.6/dist-packages/IPython/core/interactiveshell.py:2718: DtypeWarning: Columns (5,7,9,10,11,12,13,15) have mixed types. Specify dtype option on import or set low_memory=False.\n",
            "  interactivity=interactivity, compiler=compiler, result=result)\n"
          ],
          "name": "stderr"
        }
      ]
    },
    {
      "cell_type": "code",
      "metadata": {
        "id": "tn42G9wIQFPF",
        "colab_type": "code",
        "colab": {}
      },
      "source": [
        ""
      ],
      "execution_count": 0,
      "outputs": []
    },
    {
      "cell_type": "code",
      "metadata": {
        "id": "yC-q8Cku8Nzf",
        "colab_type": "code",
        "colab": {
          "base_uri": "https://localhost:8080/",
          "height": 364
        },
        "outputId": "6fd0ebaf-a364-45bc-df1d-3a249e2abbda"
      },
      "source": [
        "train.head(10)"
      ],
      "execution_count": 9,
      "outputs": [
        {
          "output_type": "execute_result",
          "data": {
            "text/html": [
              "<div>\n",
              "<style scoped>\n",
              "    .dataframe tbody tr th:only-of-type {\n",
              "        vertical-align: middle;\n",
              "    }\n",
              "\n",
              "    .dataframe tbody tr th {\n",
              "        vertical-align: top;\n",
              "    }\n",
              "\n",
              "    .dataframe thead th {\n",
              "        text-align: right;\n",
              "    }\n",
              "</style>\n",
              "<table border=\"1\" class=\"dataframe\">\n",
              "  <thead>\n",
              "    <tr style=\"text-align: right;\">\n",
              "      <th></th>\n",
              "      <th>Unnamed: 0</th>\n",
              "      <th>Unnamed: 1</th>\n",
              "      <th>Unnamed: 2</th>\n",
              "      <th>Unnamed: 3</th>\n",
              "      <th>(UTC)</th>\n",
              "      <th>(IST)</th>\n",
              "      <th>Mw</th>\n",
              "      <th>Mw.1</th>\n",
              "      <th>Mb</th>\n",
              "      <th>Mb.1</th>\n",
              "      <th>Ms</th>\n",
              "      <th>ML</th>\n",
              "      <th>Unnamed: 12</th>\n",
              "      <th>Unnamed: 13</th>\n",
              "      <th>Unnamed: 14</th>\n",
              "      <th>MM</th>\n",
              "      <th>MMI</th>\n",
              "      <th>MME</th>\n",
              "      <th>Unnamed: 18</th>\n",
              "      <th>Unnamed: 19</th>\n",
              "    </tr>\n",
              "  </thead>\n",
              "  <tbody>\n",
              "    <tr>\n",
              "      <th>0</th>\n",
              "      <td>1</td>\n",
              "      <td>-2474</td>\n",
              "      <td>0.0</td>\n",
              "      <td>0.0</td>\n",
              "      <td>NaN</td>\n",
              "      <td>NaN</td>\n",
              "      <td>7.5000</td>\n",
              "      <td>7.5</td>\n",
              "      <td>NaN</td>\n",
              "      <td>6.969202899</td>\n",
              "      <td>7.260619977</td>\n",
              "      <td>7.427072403</td>\n",
              "      <td>71</td>\n",
              "      <td>24</td>\n",
              "      <td>0.0</td>\n",
              "      <td>NaN</td>\n",
              "      <td>NaN</td>\n",
              "      <td>NaN</td>\n",
              "      <td>NaN</td>\n",
              "      <td>Dr STGR</td>\n",
              "    </tr>\n",
              "    <tr>\n",
              "      <th>1</th>\n",
              "      <td>2</td>\n",
              "      <td>-325</td>\n",
              "      <td>0.0</td>\n",
              "      <td>0.0</td>\n",
              "      <td>NaN</td>\n",
              "      <td>NaN</td>\n",
              "      <td>7.5000</td>\n",
              "      <td>7.5</td>\n",
              "      <td>NaN</td>\n",
              "      <td>6.969202899</td>\n",
              "      <td>7.260619977</td>\n",
              "      <td>7.427072403</td>\n",
              "      <td>71</td>\n",
              "      <td>24</td>\n",
              "      <td>0.0</td>\n",
              "      <td>NaN</td>\n",
              "      <td>NaN</td>\n",
              "      <td>NaN</td>\n",
              "      <td>NaN</td>\n",
              "      <td>Dr STGR</td>\n",
              "    </tr>\n",
              "    <tr>\n",
              "      <th>2</th>\n",
              "      <td>3</td>\n",
              "      <td>25</td>\n",
              "      <td>0.0</td>\n",
              "      <td>0.0</td>\n",
              "      <td>NaN</td>\n",
              "      <td>NaN</td>\n",
              "      <td>7.5000</td>\n",
              "      <td>7.5</td>\n",
              "      <td>NaN</td>\n",
              "      <td>6.969202899</td>\n",
              "      <td>7.260619977</td>\n",
              "      <td>7.427072403</td>\n",
              "      <td>72.9</td>\n",
              "      <td>33.72</td>\n",
              "      <td>0.0</td>\n",
              "      <td>NaN</td>\n",
              "      <td>NaN</td>\n",
              "      <td>NaN</td>\n",
              "      <td>NaN</td>\n",
              "      <td>Dr STGR</td>\n",
              "    </tr>\n",
              "    <tr>\n",
              "      <th>3</th>\n",
              "      <td>4</td>\n",
              "      <td>26</td>\n",
              "      <td>5.0</td>\n",
              "      <td>10.0</td>\n",
              "      <td>08.19.10.0</td>\n",
              "      <td>NaN</td>\n",
              "      <td>6.1397</td>\n",
              "      <td>6.1397</td>\n",
              "      <td>5.737047101</td>\n",
              "      <td>5.737047101</td>\n",
              "      <td>5.698851894</td>\n",
              "      <td>5.999685205</td>\n",
              "      <td>17.3</td>\n",
              "      <td>80.1</td>\n",
              "      <td>NaN</td>\n",
              "      <td>NaN</td>\n",
              "      <td>NaN</td>\n",
              "      <td>NaN</td>\n",
              "      <td>NaN</td>\n",
              "      <td>NEIC</td>\n",
              "    </tr>\n",
              "    <tr>\n",
              "      <th>4</th>\n",
              "      <td>5</td>\n",
              "      <td>26</td>\n",
              "      <td>5.0</td>\n",
              "      <td>10.0</td>\n",
              "      <td>08.19.10.0</td>\n",
              "      <td>NaN</td>\n",
              "      <td>6.1397</td>\n",
              "      <td>6.1397</td>\n",
              "      <td>5.737047101</td>\n",
              "      <td>5.737047101</td>\n",
              "      <td>6.075520196</td>\n",
              "      <td>5.999685205</td>\n",
              "      <td>26</td>\n",
              "      <td>97</td>\n",
              "      <td>80.0</td>\n",
              "      <td>NaN</td>\n",
              "      <td>NaN</td>\n",
              "      <td>NaN</td>\n",
              "      <td>Myanmar</td>\n",
              "      <td>G-R</td>\n",
              "    </tr>\n",
              "    <tr>\n",
              "      <th>5</th>\n",
              "      <td>6</td>\n",
              "      <td>50</td>\n",
              "      <td>0.0</td>\n",
              "      <td>0.0</td>\n",
              "      <td>NaN</td>\n",
              "      <td>NaN</td>\n",
              "      <td>7.0000</td>\n",
              "      <td>7</td>\n",
              "      <td>NaN</td>\n",
              "      <td>6.516304348</td>\n",
              "      <td>6.686567164</td>\n",
              "      <td>6.902413431</td>\n",
              "      <td>69.5</td>\n",
              "      <td>37.1</td>\n",
              "      <td>0.0</td>\n",
              "      <td>NaN</td>\n",
              "      <td>NaN</td>\n",
              "      <td>NaN</td>\n",
              "      <td>NaN</td>\n",
              "      <td>Dr STGR</td>\n",
              "    </tr>\n",
              "    <tr>\n",
              "      <th>6</th>\n",
              "      <td>7</td>\n",
              "      <td>110</td>\n",
              "      <td>0.0</td>\n",
              "      <td>0.0</td>\n",
              "      <td>NaN</td>\n",
              "      <td>NaN</td>\n",
              "      <td>6.5000</td>\n",
              "      <td>6.5</td>\n",
              "      <td>NaN</td>\n",
              "      <td>6.063405797</td>\n",
              "      <td>6.112514351</td>\n",
              "      <td>6.37775446</td>\n",
              "      <td>76.47</td>\n",
              "      <td>18.1</td>\n",
              "      <td>0.0</td>\n",
              "      <td>NaN</td>\n",
              "      <td>NaN</td>\n",
              "      <td>NaN</td>\n",
              "      <td>NaN</td>\n",
              "      <td>Dr STGR</td>\n",
              "    </tr>\n",
              "    <tr>\n",
              "      <th>7</th>\n",
              "      <td>8</td>\n",
              "      <td>250</td>\n",
              "      <td>0.0</td>\n",
              "      <td>0.0</td>\n",
              "      <td>NaN</td>\n",
              "      <td>NaN</td>\n",
              "      <td>8.5000</td>\n",
              "      <td>8.5</td>\n",
              "      <td>NaN</td>\n",
              "      <td>7.875</td>\n",
              "      <td>8.408725603</td>\n",
              "      <td>8.476390346</td>\n",
              "      <td>74.5</td>\n",
              "      <td>34.6</td>\n",
              "      <td>0.0</td>\n",
              "      <td>NaN</td>\n",
              "      <td>NaN</td>\n",
              "      <td>NaN</td>\n",
              "      <td>NaN</td>\n",
              "      <td>Dr STGR</td>\n",
              "    </tr>\n",
              "    <tr>\n",
              "      <th>8</th>\n",
              "      <td>9</td>\n",
              "      <td>260</td>\n",
              "      <td>0.0</td>\n",
              "      <td>0.0</td>\n",
              "      <td>NaN</td>\n",
              "      <td>NaN</td>\n",
              "      <td>8.0000</td>\n",
              "      <td>8</td>\n",
              "      <td>NaN</td>\n",
              "      <td>7.422101449</td>\n",
              "      <td>7.83467279</td>\n",
              "      <td>7.951731375</td>\n",
              "      <td>77.2</td>\n",
              "      <td>30.5</td>\n",
              "      <td>0.0</td>\n",
              "      <td>NaN</td>\n",
              "      <td>NaN</td>\n",
              "      <td>NaN</td>\n",
              "      <td>NaN</td>\n",
              "      <td>Dr STGR</td>\n",
              "    </tr>\n",
              "    <tr>\n",
              "      <th>9</th>\n",
              "      <td>10</td>\n",
              "      <td>819</td>\n",
              "      <td>6.0</td>\n",
              "      <td>1.0</td>\n",
              "      <td>NaN</td>\n",
              "      <td>NaN</td>\n",
              "      <td>7.3000</td>\n",
              "      <td>7.3</td>\n",
              "      <td>NaN</td>\n",
              "      <td>6.788043478</td>\n",
              "      <td>7.030998852</td>\n",
              "      <td>7.217208814</td>\n",
              "      <td>65.4</td>\n",
              "      <td>36.4</td>\n",
              "      <td>0.0</td>\n",
              "      <td>NaN</td>\n",
              "      <td>NaN</td>\n",
              "      <td>NaN</td>\n",
              "      <td>NaN</td>\n",
              "      <td>Dr STGR</td>\n",
              "    </tr>\n",
              "  </tbody>\n",
              "</table>\n",
              "</div>"
            ],
            "text/plain": [
              "   Unnamed: 0  Unnamed: 1  Unnamed: 2  ...  MME Unnamed: 18 Unnamed: 19\n",
              "0           1       -2474         0.0  ...  NaN         NaN     Dr STGR\n",
              "1           2        -325         0.0  ...  NaN         NaN     Dr STGR\n",
              "2           3          25         0.0  ...  NaN         NaN     Dr STGR\n",
              "3           4          26         5.0  ...  NaN         NaN        NEIC\n",
              "4           5          26         5.0  ...  NaN     Myanmar         G-R\n",
              "5           6          50         0.0  ...  NaN         NaN     Dr STGR\n",
              "6           7         110         0.0  ...  NaN         NaN     Dr STGR\n",
              "7           8         250         0.0  ...  NaN         NaN     Dr STGR\n",
              "8           9         260         0.0  ...  NaN         NaN     Dr STGR\n",
              "9          10         819         6.0  ...  NaN         NaN     Dr STGR\n",
              "\n",
              "[10 rows x 20 columns]"
            ]
          },
          "metadata": {
            "tags": []
          },
          "execution_count": 9
        }
      ]
    },
    {
      "cell_type": "code",
      "metadata": {
        "id": "iERk3nZZ99-f",
        "colab_type": "code",
        "colab": {
          "base_uri": "https://localhost:8080/",
          "height": 87
        },
        "outputId": "6c9ce4d5-738c-4d3f-8bc2-bd95db1a918a"
      },
      "source": [
        "train.rename(columns={'Unnamed: 1':'YEAR','Unnamed: 2':'MONTH','Unnamed: 3':'DATE','Unnamed: 19':'REFERENCE','Unnamed: 18':'LOCATION',\n",
        "                      'Unnamed: 12':'LATITUDE','Unnamed: 14':'LONGITUDE','Unnamed: 13':'DEPTH'\n",
        "\n",
        "},inplace=True)\n",
        "train.columns\n"
      ],
      "execution_count": 10,
      "outputs": [
        {
          "output_type": "execute_result",
          "data": {
            "text/plain": [
              "Index(['Unnamed: 0', 'YEAR', 'MONTH', 'DATE', '(UTC)', '(IST)', 'Mw', 'Mw.1',\n",
              "       'Mb', 'Mb.1', 'Ms', 'ML', 'LATITUDE', 'DEPTH', 'LONGITUDE', 'MM', 'MMI',\n",
              "       'MME', 'LOCATION', 'REFERENCE'],\n",
              "      dtype='object')"
            ]
          },
          "metadata": {
            "tags": []
          },
          "execution_count": 10
        }
      ]
    },
    {
      "cell_type": "code",
      "metadata": {
        "id": "SQETVw5HASJ6",
        "colab_type": "code",
        "colab": {}
      },
      "source": [
        "del train['Unnamed: 0']    #colab me aksr column.drop(axis=1) ye method km nhi krta hai isliye del use kiya hai\n",
        "del train['REFERENCE']\n",
        "del train['Mw.1']\n",
        "del train['Mb']\n",
        "del train['MM']\n",
        "del train['MMI']\n",
        "del train['MME']\n",
        "del train['(UTC)']\n",
        "del train['(IST)']"
      ],
      "execution_count": 0,
      "outputs": []
    },
    {
      "cell_type": "code",
      "metadata": {
        "id": "YOSq8xNiM3LW",
        "colab_type": "code",
        "colab": {}
      },
      "source": [
        ""
      ],
      "execution_count": 0,
      "outputs": []
    },
    {
      "cell_type": "code",
      "metadata": {
        "id": "_qB4btY5NORj",
        "colab_type": "code",
        "colab": {
          "base_uri": "https://localhost:8080/",
          "height": 34
        },
        "outputId": "76259d03-02bf-481c-9526-81f5b02d6d3d"
      },
      "source": [
        "train.shape"
      ],
      "execution_count": 12,
      "outputs": [
        {
          "output_type": "execute_result",
          "data": {
            "text/plain": [
              "(52989, 11)"
            ]
          },
          "metadata": {
            "tags": []
          },
          "execution_count": 12
        }
      ]
    },
    {
      "cell_type": "code",
      "metadata": {
        "id": "wQTz9o7S8TLv",
        "colab_type": "code",
        "colab": {
          "base_uri": "https://localhost:8080/",
          "height": 377
        },
        "outputId": "96a6f799-da9b-4e74-d996-204075874433"
      },
      "source": [
        "train.describe(include='all')"
      ],
      "execution_count": 13,
      "outputs": [
        {
          "output_type": "execute_result",
          "data": {
            "text/html": [
              "<div>\n",
              "<style scoped>\n",
              "    .dataframe tbody tr th:only-of-type {\n",
              "        vertical-align: middle;\n",
              "    }\n",
              "\n",
              "    .dataframe tbody tr th {\n",
              "        vertical-align: top;\n",
              "    }\n",
              "\n",
              "    .dataframe thead th {\n",
              "        text-align: right;\n",
              "    }\n",
              "</style>\n",
              "<table border=\"1\" class=\"dataframe\">\n",
              "  <thead>\n",
              "    <tr style=\"text-align: right;\">\n",
              "      <th></th>\n",
              "      <th>YEAR</th>\n",
              "      <th>MONTH</th>\n",
              "      <th>DATE</th>\n",
              "      <th>Mw</th>\n",
              "      <th>Mb.1</th>\n",
              "      <th>Ms</th>\n",
              "      <th>ML</th>\n",
              "      <th>LATITUDE</th>\n",
              "      <th>DEPTH</th>\n",
              "      <th>LONGITUDE</th>\n",
              "      <th>LOCATION</th>\n",
              "    </tr>\n",
              "  </thead>\n",
              "  <tbody>\n",
              "    <tr>\n",
              "      <th>count</th>\n",
              "      <td>52989.000000</td>\n",
              "      <td>52969.000000</td>\n",
              "      <td>52932.000000</td>\n",
              "      <td>40935.000000</td>\n",
              "      <td>50497</td>\n",
              "      <td>52823</td>\n",
              "      <td>52823</td>\n",
              "      <td>52989.0</td>\n",
              "      <td>52989.0</td>\n",
              "      <td>50811.000000</td>\n",
              "      <td>9374</td>\n",
              "    </tr>\n",
              "    <tr>\n",
              "      <th>unique</th>\n",
              "      <td>NaN</td>\n",
              "      <td>NaN</td>\n",
              "      <td>NaN</td>\n",
              "      <td>NaN</td>\n",
              "      <td>374</td>\n",
              "      <td>663</td>\n",
              "      <td>374</td>\n",
              "      <td>14445.0</td>\n",
              "      <td>14617.0</td>\n",
              "      <td>NaN</td>\n",
              "      <td>1613</td>\n",
              "    </tr>\n",
              "    <tr>\n",
              "      <th>top</th>\n",
              "      <td>NaN</td>\n",
              "      <td>NaN</td>\n",
              "      <td>NaN</td>\n",
              "      <td>NaN</td>\n",
              "      <td>4.070652174</td>\n",
              "      <td>3.586681975</td>\n",
              "      <td>4.069254984</td>\n",
              "      <td>70.5</td>\n",
              "      <td>36.5</td>\n",
              "      <td>NaN</td>\n",
              "      <td>Myanmar</td>\n",
              "    </tr>\n",
              "    <tr>\n",
              "      <th>freq</th>\n",
              "      <td>NaN</td>\n",
              "      <td>NaN</td>\n",
              "      <td>NaN</td>\n",
              "      <td>NaN</td>\n",
              "      <td>2961</td>\n",
              "      <td>2958</td>\n",
              "      <td>2961</td>\n",
              "      <td>120.0</td>\n",
              "      <td>224.0</td>\n",
              "      <td>NaN</td>\n",
              "      <td>1581</td>\n",
              "    </tr>\n",
              "    <tr>\n",
              "      <th>mean</th>\n",
              "      <td>1991.584669</td>\n",
              "      <td>6.342672</td>\n",
              "      <td>16.393958</td>\n",
              "      <td>4.537564</td>\n",
              "      <td>NaN</td>\n",
              "      <td>NaN</td>\n",
              "      <td>NaN</td>\n",
              "      <td>NaN</td>\n",
              "      <td>NaN</td>\n",
              "      <td>45.569867</td>\n",
              "      <td>NaN</td>\n",
              "    </tr>\n",
              "    <tr>\n",
              "      <th>std</th>\n",
              "      <td>41.964962</td>\n",
              "      <td>3.640914</td>\n",
              "      <td>8.969178</td>\n",
              "      <td>0.625875</td>\n",
              "      <td>NaN</td>\n",
              "      <td>NaN</td>\n",
              "      <td>NaN</td>\n",
              "      <td>NaN</td>\n",
              "      <td>NaN</td>\n",
              "      <td>55.517009</td>\n",
              "      <td>NaN</td>\n",
              "    </tr>\n",
              "    <tr>\n",
              "      <th>min</th>\n",
              "      <td>-2474.000000</td>\n",
              "      <td>0.000000</td>\n",
              "      <td>0.000000</td>\n",
              "      <td>2.000000</td>\n",
              "      <td>NaN</td>\n",
              "      <td>NaN</td>\n",
              "      <td>NaN</td>\n",
              "      <td>NaN</td>\n",
              "      <td>NaN</td>\n",
              "      <td>0.000000</td>\n",
              "      <td>NaN</td>\n",
              "    </tr>\n",
              "    <tr>\n",
              "      <th>25%</th>\n",
              "      <td>1986.000000</td>\n",
              "      <td>3.000000</td>\n",
              "      <td>9.000000</td>\n",
              "      <td>4.200000</td>\n",
              "      <td>NaN</td>\n",
              "      <td>NaN</td>\n",
              "      <td>NaN</td>\n",
              "      <td>NaN</td>\n",
              "      <td>NaN</td>\n",
              "      <td>10.000000</td>\n",
              "      <td>NaN</td>\n",
              "    </tr>\n",
              "    <tr>\n",
              "      <th>50%</th>\n",
              "      <td>1999.000000</td>\n",
              "      <td>6.000000</td>\n",
              "      <td>16.000000</td>\n",
              "      <td>4.400000</td>\n",
              "      <td>NaN</td>\n",
              "      <td>NaN</td>\n",
              "      <td>NaN</td>\n",
              "      <td>NaN</td>\n",
              "      <td>NaN</td>\n",
              "      <td>33.000000</td>\n",
              "      <td>NaN</td>\n",
              "    </tr>\n",
              "    <tr>\n",
              "      <th>75%</th>\n",
              "      <td>2005.000000</td>\n",
              "      <td>10.000000</td>\n",
              "      <td>25.000000</td>\n",
              "      <td>4.800000</td>\n",
              "      <td>NaN</td>\n",
              "      <td>NaN</td>\n",
              "      <td>NaN</td>\n",
              "      <td>NaN</td>\n",
              "      <td>NaN</td>\n",
              "      <td>55.000000</td>\n",
              "      <td>NaN</td>\n",
              "    </tr>\n",
              "    <tr>\n",
              "      <th>max</th>\n",
              "      <td>2019.000000</td>\n",
              "      <td>12.000000</td>\n",
              "      <td>31.000000</td>\n",
              "      <td>9.100000</td>\n",
              "      <td>NaN</td>\n",
              "      <td>NaN</td>\n",
              "      <td>NaN</td>\n",
              "      <td>NaN</td>\n",
              "      <td>NaN</td>\n",
              "      <td>831.200000</td>\n",
              "      <td>NaN</td>\n",
              "    </tr>\n",
              "  </tbody>\n",
              "</table>\n",
              "</div>"
            ],
            "text/plain": [
              "                YEAR         MONTH  ...     LONGITUDE  LOCATION\n",
              "count   52989.000000  52969.000000  ...  50811.000000      9374\n",
              "unique           NaN           NaN  ...           NaN      1613\n",
              "top              NaN           NaN  ...           NaN   Myanmar\n",
              "freq             NaN           NaN  ...           NaN      1581\n",
              "mean     1991.584669      6.342672  ...     45.569867       NaN\n",
              "std        41.964962      3.640914  ...     55.517009       NaN\n",
              "min     -2474.000000      0.000000  ...      0.000000       NaN\n",
              "25%      1986.000000      3.000000  ...     10.000000       NaN\n",
              "50%      1999.000000      6.000000  ...     33.000000       NaN\n",
              "75%      2005.000000     10.000000  ...     55.000000       NaN\n",
              "max      2019.000000     12.000000  ...    831.200000       NaN\n",
              "\n",
              "[11 rows x 11 columns]"
            ]
          },
          "metadata": {
            "tags": []
          },
          "execution_count": 13
        }
      ]
    },
    {
      "cell_type": "code",
      "metadata": {
        "id": "alHkwNs8DLRf",
        "colab_type": "code",
        "colab": {
          "base_uri": "https://localhost:8080/",
          "height": 230
        },
        "outputId": "de8ea54a-0cb7-4436-f69f-ca73f2fb5a19"
      },
      "source": [
        "train.dtypes\n"
      ],
      "execution_count": 14,
      "outputs": [
        {
          "output_type": "execute_result",
          "data": {
            "text/plain": [
              "YEAR           int64\n",
              "MONTH        float64\n",
              "DATE         float64\n",
              "Mw           float64\n",
              "Mb.1          object\n",
              "Ms            object\n",
              "ML            object\n",
              "LATITUDE      object\n",
              "DEPTH         object\n",
              "LONGITUDE    float64\n",
              "LOCATION      object\n",
              "dtype: object"
            ]
          },
          "metadata": {
            "tags": []
          },
          "execution_count": 14
        }
      ]
    },
    {
      "cell_type": "code",
      "metadata": {
        "id": "ICX_g_iOO_4A",
        "colab_type": "code",
        "colab": {}
      },
      "source": [
        "columns=['Mw','Mb.1','Ms','ML','LATITUDE','DEPTH']\n",
        "\n",
        "for x in columns:\n",
        "  train[x]=pd.to_numeric(train[x], errors='coerce').astype('float')\n"
      ],
      "execution_count": 0,
      "outputs": []
    },
    {
      "cell_type": "code",
      "metadata": {
        "id": "tbx0HBNFS0Qg",
        "colab_type": "code",
        "colab": {
          "base_uri": "https://localhost:8080/",
          "height": 230
        },
        "outputId": "3976ddb2-5e83-41e4-bb66-47b6fb42772c"
      },
      "source": [
        "train.dtypes"
      ],
      "execution_count": 16,
      "outputs": [
        {
          "output_type": "execute_result",
          "data": {
            "text/plain": [
              "YEAR           int64\n",
              "MONTH        float64\n",
              "DATE         float64\n",
              "Mw           float64\n",
              "Mb.1         float64\n",
              "Ms           float64\n",
              "ML           float64\n",
              "LATITUDE     float64\n",
              "DEPTH        float64\n",
              "LONGITUDE    float64\n",
              "LOCATION      object\n",
              "dtype: object"
            ]
          },
          "metadata": {
            "tags": []
          },
          "execution_count": 16
        }
      ]
    },
    {
      "cell_type": "code",
      "metadata": {
        "id": "t2ytfdIKE1CN",
        "colab_type": "code",
        "colab": {
          "base_uri": "https://localhost:8080/",
          "height": 837
        },
        "outputId": "62abb88b-5539-4d25-bb6c-7adcffcac943"
      },
      "source": [
        "train.hist(figsize=(10,10))"
      ],
      "execution_count": 17,
      "outputs": [
        {
          "output_type": "execute_result",
          "data": {
            "text/plain": [
              "array([[<matplotlib.axes._subplots.AxesSubplot object at 0x7f112d260c18>,\n",
              "        <matplotlib.axes._subplots.AxesSubplot object at 0x7f112d1d32b0>,\n",
              "        <matplotlib.axes._subplots.AxesSubplot object at 0x7f112d1ff550>],\n",
              "       [<matplotlib.axes._subplots.AxesSubplot object at 0x7f112d1ae908>,\n",
              "        <matplotlib.axes._subplots.AxesSubplot object at 0x7f112d15ceb8>,\n",
              "        <matplotlib.axes._subplots.AxesSubplot object at 0x7f112d1144a8>],\n",
              "       [<matplotlib.axes._subplots.AxesSubplot object at 0x7f112d141a58>,\n",
              "        <matplotlib.axes._subplots.AxesSubplot object at 0x7f112d0fd080>,\n",
              "        <matplotlib.axes._subplots.AxesSubplot object at 0x7f112d0fd0b8>],\n",
              "       [<matplotlib.axes._subplots.AxesSubplot object at 0x7f112d054ba8>,\n",
              "        <matplotlib.axes._subplots.AxesSubplot object at 0x7f112d012198>,\n",
              "        <matplotlib.axes._subplots.AxesSubplot object at 0x7f112d041748>]],\n",
              "      dtype=object)"
            ]
          },
          "metadata": {
            "tags": []
          },
          "execution_count": 17
        },
        {
          "output_type": "display_data",
          "data": {
            "image/png": "[encoded data removed]",
            "text/plain": [
              "<Figure size 720x720 with 12 Axes>"
            ]
          },
          "metadata": {
            "tags": []
          }
        }
      ]
    },
    {
      "cell_type": "code",
      "metadata": {
        "id": "5tEk60Xp9xXh",
        "colab_type": "code",
        "colab": {
          "base_uri": "https://localhost:8080/",
          "height": 965
        },
        "outputId": "1a31c325-21bf-4524-cb5b-4da5e6e5a0bd"
      },
      "source": [
        "plt.figure(figsize=(20,10))\n",
        "c= train.corr()\n",
        "sns.heatmap(c,cmap='BrBG',annot=True)\n",
        "c"
      ],
      "execution_count": 18,
      "outputs": [
        {
          "output_type": "execute_result",
          "data": {
            "text/html": [
              "<div>\n",
              "<style scoped>\n",
              "    .dataframe tbody tr th:only-of-type {\n",
              "        vertical-align: middle;\n",
              "    }\n",
              "\n",
              "    .dataframe tbody tr th {\n",
              "        vertical-align: top;\n",
              "    }\n",
              "\n",
              "    .dataframe thead th {\n",
              "        text-align: right;\n",
              "    }\n",
              "</style>\n",
              "<table border=\"1\" class=\"dataframe\">\n",
              "  <thead>\n",
              "    <tr style=\"text-align: right;\">\n",
              "      <th></th>\n",
              "      <th>YEAR</th>\n",
              "      <th>MONTH</th>\n",
              "      <th>DATE</th>\n",
              "      <th>Mw</th>\n",
              "      <th>Mb.1</th>\n",
              "      <th>Ms</th>\n",
              "      <th>ML</th>\n",
              "      <th>LATITUDE</th>\n",
              "      <th>DEPTH</th>\n",
              "      <th>LONGITUDE</th>\n",
              "    </tr>\n",
              "  </thead>\n",
              "  <tbody>\n",
              "    <tr>\n",
              "      <th>YEAR</th>\n",
              "      <td>1.000000</td>\n",
              "      <td>0.011090</td>\n",
              "      <td>0.046662</td>\n",
              "      <td>-0.221538</td>\n",
              "      <td>-0.199898</td>\n",
              "      <td>-0.050877</td>\n",
              "      <td>-0.030676</td>\n",
              "      <td>0.053361</td>\n",
              "      <td>-0.056389</td>\n",
              "      <td>-0.021978</td>\n",
              "    </tr>\n",
              "    <tr>\n",
              "      <th>MONTH</th>\n",
              "      <td>0.011090</td>\n",
              "      <td>1.000000</td>\n",
              "      <td>0.006670</td>\n",
              "      <td>0.014754</td>\n",
              "      <td>0.010486</td>\n",
              "      <td>-0.015932</td>\n",
              "      <td>-0.018316</td>\n",
              "      <td>0.010000</td>\n",
              "      <td>0.007652</td>\n",
              "      <td>0.009974</td>\n",
              "    </tr>\n",
              "    <tr>\n",
              "      <th>DATE</th>\n",
              "      <td>0.046662</td>\n",
              "      <td>0.006670</td>\n",
              "      <td>1.000000</td>\n",
              "      <td>0.009056</td>\n",
              "      <td>0.024278</td>\n",
              "      <td>0.017920</td>\n",
              "      <td>0.016250</td>\n",
              "      <td>0.006476</td>\n",
              "      <td>-0.019857</td>\n",
              "      <td>-0.032790</td>\n",
              "    </tr>\n",
              "    <tr>\n",
              "      <th>Mw</th>\n",
              "      <td>-0.221538</td>\n",
              "      <td>0.014754</td>\n",
              "      <td>0.009056</td>\n",
              "      <td>1.000000</td>\n",
              "      <td>0.999627</td>\n",
              "      <td>0.997005</td>\n",
              "      <td>1.000000</td>\n",
              "      <td>0.033814</td>\n",
              "      <td>-0.022285</td>\n",
              "      <td>-0.030722</td>\n",
              "    </tr>\n",
              "    <tr>\n",
              "      <th>Mb.1</th>\n",
              "      <td>-0.199898</td>\n",
              "      <td>0.010486</td>\n",
              "      <td>0.024278</td>\n",
              "      <td>0.999627</td>\n",
              "      <td>1.000000</td>\n",
              "      <td>0.994681</td>\n",
              "      <td>0.999688</td>\n",
              "      <td>-0.075033</td>\n",
              "      <td>0.075727</td>\n",
              "      <td>-0.027934</td>\n",
              "    </tr>\n",
              "    <tr>\n",
              "      <th>Ms</th>\n",
              "      <td>-0.050877</td>\n",
              "      <td>-0.015932</td>\n",
              "      <td>0.017920</td>\n",
              "      <td>0.997005</td>\n",
              "      <td>0.994681</td>\n",
              "      <td>1.000000</td>\n",
              "      <td>0.992811</td>\n",
              "      <td>0.127503</td>\n",
              "      <td>-0.118889</td>\n",
              "      <td>-0.014172</td>\n",
              "    </tr>\n",
              "    <tr>\n",
              "      <th>ML</th>\n",
              "      <td>-0.030676</td>\n",
              "      <td>-0.018316</td>\n",
              "      <td>0.016250</td>\n",
              "      <td>1.000000</td>\n",
              "      <td>0.999688</td>\n",
              "      <td>0.992811</td>\n",
              "      <td>1.000000</td>\n",
              "      <td>0.169755</td>\n",
              "      <td>-0.160438</td>\n",
              "      <td>-0.011664</td>\n",
              "    </tr>\n",
              "    <tr>\n",
              "      <th>LATITUDE</th>\n",
              "      <td>0.053361</td>\n",
              "      <td>0.010000</td>\n",
              "      <td>0.006476</td>\n",
              "      <td>0.033814</td>\n",
              "      <td>-0.075033</td>\n",
              "      <td>0.127503</td>\n",
              "      <td>0.169755</td>\n",
              "      <td>1.000000</td>\n",
              "      <td>-0.952804</td>\n",
              "      <td>-0.050353</td>\n",
              "    </tr>\n",
              "    <tr>\n",
              "      <th>DEPTH</th>\n",
              "      <td>-0.056389</td>\n",
              "      <td>0.007652</td>\n",
              "      <td>-0.019857</td>\n",
              "      <td>-0.022285</td>\n",
              "      <td>0.075727</td>\n",
              "      <td>-0.118889</td>\n",
              "      <td>-0.160438</td>\n",
              "      <td>-0.952804</td>\n",
              "      <td>1.000000</td>\n",
              "      <td>0.066967</td>\n",
              "    </tr>\n",
              "    <tr>\n",
              "      <th>LONGITUDE</th>\n",
              "      <td>-0.021978</td>\n",
              "      <td>0.009974</td>\n",
              "      <td>-0.032790</td>\n",
              "      <td>-0.030722</td>\n",
              "      <td>-0.027934</td>\n",
              "      <td>-0.014172</td>\n",
              "      <td>-0.011664</td>\n",
              "      <td>-0.050353</td>\n",
              "      <td>0.066967</td>\n",
              "      <td>1.000000</td>\n",
              "    </tr>\n",
              "  </tbody>\n",
              "</table>\n",
              "</div>"
            ],
            "text/plain": [
              "               YEAR     MONTH      DATE  ...  LATITUDE     DEPTH  LONGITUDE\n",
              "YEAR       1.000000  0.011090  0.046662  ...  0.053361 -0.056389  -0.021978\n",
              "MONTH      0.011090  1.000000  0.006670  ...  0.010000  0.007652   0.009974\n",
              "DATE       0.046662  0.006670  1.000000  ...  0.006476 -0.019857  -0.032790\n",
              "Mw        -0.221538  0.014754  0.009056  ...  0.033814 -0.022285  -0.030722\n",
              "Mb.1      -0.199898  0.010486  0.024278  ... -0.075033  0.075727  -0.027934\n",
              "Ms        -0.050877 -0.015932  0.017920  ...  0.127503 -0.118889  -0.014172\n",
              "ML        -0.030676 -0.018316  0.016250  ...  0.169755 -0.160438  -0.011664\n",
              "LATITUDE   0.053361  0.010000  0.006476  ...  1.000000 -0.952804  -0.050353\n",
              "DEPTH     -0.056389  0.007652 -0.019857  ... -0.952804  1.000000   0.066967\n",
              "LONGITUDE -0.021978  0.009974 -0.032790  ... -0.050353  0.066967   1.000000\n",
              "\n",
              "[10 rows x 10 columns]"
            ]
          },
          "metadata": {
            "tags": []
          },
          "execution_count": 18
        },
        {
          "output_type": "display_data",
          "data": {
            "image/png": "[encoded data removed]",
            "text/plain": [
              "<Figure size 1440x720 with 2 Axes>"
            ]
          },
          "metadata": {
            "tags": []
          }
        }
      ]
    },
    {
      "cell_type": "code",
      "metadata": {
        "id": "j37L-yUXCsxS",
        "colab_type": "code",
        "colab": {}
      },
      "source": [
        ""
      ],
      "execution_count": 0,
      "outputs": []
    },
    {
      "cell_type": "code",
      "metadata": {
        "id": "y836vBF9EJ4_",
        "colab_type": "code",
        "colab": {
          "base_uri": "https://localhost:8080/",
          "height": 278
        },
        "outputId": "a3508ac9-29fe-4e93-c381-2d92b6439ace"
      },
      "source": [
        "ax = sns.scatterplot(x=\"Mb.1\", y=\"Mw\", data=train)"
      ],
      "execution_count": 19,
      "outputs": [
        {
          "output_type": "display_data",
          "data": {
            "image/png": "[encoded data removed]",
            "text/plain": [
              "<Figure size 432x288 with 1 Axes>"
            ]
          },
          "metadata": {
            "tags": []
          }
        }
      ]
    },
    {
      "cell_type": "code",
      "metadata": {
        "id": "dbzUqQ1EUm-D",
        "colab_type": "code",
        "colab": {
          "base_uri": "https://localhost:8080/",
          "height": 278
        },
        "outputId": "a07d5138-f559-4781-ff74-b8f3718d04f8"
      },
      "source": [
        "ax = sns.scatterplot(x=\"Ms\", y=\"ML\",data=train)"
      ],
      "execution_count": 20,
      "outputs": [
        {
          "output_type": "display_data",
          "data": {
            "image/png": "[encoded data removed]",
            "text/plain": [
              "<Figure size 432x288 with 1 Axes>"
            ]
          },
          "metadata": {
            "tags": []
          }
        }
      ]
    },
    {
      "cell_type": "code",
      "metadata": {
        "id": "bwkbFmHH6q3f",
        "colab_type": "code",
        "colab": {
          "base_uri": "https://localhost:8080/",
          "height": 278
        },
        "outputId": "8ffdedf2-3abe-4d0c-dd31-5d7af81c3a6c"
      },
      "source": [
        "ax = sns.scatterplot(x=\"DEPTH\", y=\"Mb.1\",data=train)"
      ],
      "execution_count": 21,
      "outputs": [
        {
          "output_type": "display_data",
          "data": {
            "image/png": "[encoded data removed]",
            "text/plain": [
              "<Figure size 432x288 with 1 Axes>"
            ]
          },
          "metadata": {
            "tags": []
          }
        }
      ]
    },
    {
      "cell_type": "code",
      "metadata": {
        "id": "QlqJjfj75zne",
        "colab_type": "code",
        "colab": {
          "base_uri": "https://localhost:8080/",
          "height": 52
        },
        "outputId": "946a6d88-a047-4b39-b48f-502105d7d4ab"
      },
      "source": [
        "print(train['YEAR'].max())\n",
        "print(train['YEAR'].min())"
      ],
      "execution_count": 22,
      "outputs": [
        {
          "output_type": "stream",
          "text": [
            "2019\n",
            "-2474\n"
          ],
          "name": "stdout"
        }
      ]
    },
    {
      "cell_type": "code",
      "metadata": {
        "id": "fsO6CnGVgMGk",
        "colab_type": "code",
        "colab": {}
      },
      "source": [
        "index_year = train[ train['YEAR'] < 1 ].index\n",
        "train.drop(index_year , inplace=True)\n",
        "\n",
        "index_month = train[ train['MONTH'] < 1 ].index\n",
        "train.drop(index_month , inplace=True)\n",
        "\n",
        "index_date = train[ train['DATE'] < 1 ].index\n",
        "train.drop(index_date , inplace=True)\n",
        "\n",
        "\n",
        "index_depth = train[ train['DEPTH'] < 1 ].index\n",
        "train.drop(index_depth , inplace=True)\n"
      ],
      "execution_count": 0,
      "outputs": []
    },
    {
      "cell_type": "code",
      "metadata": {
        "id": "nYnpOoPYglFd",
        "colab_type": "code",
        "colab": {
          "base_uri": "https://localhost:8080/",
          "height": 407
        },
        "outputId": "778ac257-619e-4b47-b6c0-e305b94069f6"
      },
      "source": [
        "print(train.min())\n",
        "print(train.max())"
      ],
      "execution_count": 24,
      "outputs": [
        {
          "output_type": "stream",
          "text": [
            "YEAR         26.000000\n",
            "MONTH         1.000000\n",
            "DATE          1.000000\n",
            "Mw            2.000000\n",
            "Mb.1          0.175725\n",
            "Ms            0.000000\n",
            "ML            0.000000\n",
            "LATITUDE    -10.900000\n",
            "DEPTH         1.800000\n",
            "LONGITUDE     0.000000\n",
            "dtype: float64\n",
            "YEAR         2019.000000\n",
            "MONTH          12.000000\n",
            "DATE           31.000000\n",
            "Mw              9.100000\n",
            "Mb.1            8.418478\n",
            "Ms              9.133415\n",
            "ML              9.105981\n",
            "LATITUDE      100.000000\n",
            "DEPTH         179.900000\n",
            "LONGITUDE     831.200000\n",
            "dtype: float64\n"
          ],
          "name": "stdout"
        }
      ]
    },
    {
      "cell_type": "code",
      "metadata": {
        "id": "wxh6c3rKEZ8S",
        "colab_type": "code",
        "colab": {
          "base_uri": "https://localhost:8080/",
          "height": 34
        },
        "outputId": "1ca14aea-4b46-45c1-e4eb-3bd9a817829a"
      },
      "source": [
        "duplicate_rows_df =train[train.duplicated()]\n",
        "print('number of duplicate rows', duplicate_rows_df.shape)\n",
        "train = train.drop_duplicates()   #removing duplicates\n",
        "\n"
      ],
      "execution_count": 25,
      "outputs": [
        {
          "output_type": "stream",
          "text": [
            "number of duplicate rows (105, 11)\n"
          ],
          "name": "stdout"
        }
      ]
    },
    {
      "cell_type": "code",
      "metadata": {
        "id": "WBs-eqC6NWsg",
        "colab_type": "code",
        "colab": {
          "base_uri": "https://localhost:8080/",
          "height": 230
        },
        "outputId": "83b2c6a2-9c1b-448b-9f88-6c9cdebbe2c8"
      },
      "source": [
        "#removing null values\n",
        "\n",
        "train.isnull().sum()"
      ],
      "execution_count": 26,
      "outputs": [
        {
          "output_type": "execute_result",
          "data": {
            "text/plain": [
              "YEAR             0\n",
              "MONTH           20\n",
              "DATE            56\n",
              "Mw           12038\n",
              "Mb.1          2492\n",
              "Ms             169\n",
              "ML             169\n",
              "LATITUDE      2360\n",
              "DEPTH         2360\n",
              "LONGITUDE     2162\n",
              "LOCATION     43533\n",
              "dtype: int64"
            ]
          },
          "metadata": {
            "tags": []
          },
          "execution_count": 26
        }
      ]
    },
    {
      "cell_type": "code",
      "metadata": {
        "id": "_t9cfyyqhTCY",
        "colab_type": "code",
        "colab": {
          "base_uri": "https://localhost:8080/",
          "height": 725
        },
        "outputId": "a5e84a34-285f-4aea-f63c-b38fedec6e90"
      },
      "source": [
        "#del train['Location']"
      ],
      "execution_count": 27,
      "outputs": [
        {
          "output_type": "error",
          "ename": "KeyError",
          "evalue": "ignored",
          "traceback": [
            "\u001b[0;31m---------------------------------------------------------------------------\u001b[0m",
            "\u001b[0;31mKeyError\u001b[0m                                  Traceback (most recent call last)",
            "\u001b[0;32m/usr/local/lib/python3.6/dist-packages/pandas/core/indexes/base.py\u001b[0m in \u001b[0;36mget_loc\u001b[0;34m(self, key, method, tolerance)\u001b[0m\n\u001b[1;32m   2896\u001b[0m             \u001b[0;32mtry\u001b[0m\u001b[0;34m:\u001b[0m\u001b[0;34m\u001b[0m\u001b[0;34m\u001b[0m\u001b[0m\n\u001b[0;32m-> 2897\u001b[0;31m                 \u001b[0;32mreturn\u001b[0m \u001b[0mself\u001b[0m\u001b[0;34m.\u001b[0m\u001b[0m_engine\u001b[0m\u001b[0;34m.\u001b[0m\u001b[0mget_loc\u001b[0m\u001b[0;34m(\u001b[0m\u001b[0mkey\u001b[0m\u001b[0;34m)\u001b[0m\u001b[0;34m\u001b[0m\u001b[0;34m\u001b[0m\u001b[0m\n\u001b[0m\u001b[1;32m   2898\u001b[0m             \u001b[0;32mexcept\u001b[0m \u001b[0mKeyError\u001b[0m\u001b[0;34m:\u001b[0m\u001b[0;34m\u001b[0m\u001b[0;34m\u001b[0m\u001b[0m\n",
            "\u001b[0;32mpandas/_libs/index.pyx\u001b[0m in \u001b[0;36mpandas._libs.index.IndexEngine.get_loc\u001b[0;34m()\u001b[0m\n",
            "\u001b[0;32mpandas/_libs/index.pyx\u001b[0m in \u001b[0;36mpandas._libs.index.IndexEngine.get_loc\u001b[0;34m()\u001b[0m\n",
            "\u001b[0;32mpandas/_libs/hashtable_class_helper.pxi\u001b[0m in \u001b[0;36mpandas._libs.hashtable.PyObjectHashTable.get_item\u001b[0;34m()\u001b[0m\n",
            "\u001b[0;32mpandas/_libs/hashtable_class_helper.pxi\u001b[0m in \u001b[0;36mpandas._libs.hashtable.PyObjectHashTable.get_item\u001b[0;34m()\u001b[0m\n",
            "\u001b[0;31mKeyError\u001b[0m: 'Location'",
            "\nDuring handling of the above exception, another exception occurred:\n",
            "\u001b[0;31mKeyError\u001b[0m                                  Traceback (most recent call last)",
            "\u001b[0;32m<ipython-input-27-8605766aea9d>\u001b[0m in \u001b[0;36m<module>\u001b[0;34m()\u001b[0m\n\u001b[0;32m----> 1\u001b[0;31m \u001b[0;32mdel\u001b[0m \u001b[0mtrain\u001b[0m\u001b[0;34m[\u001b[0m\u001b[0;34m'Location'\u001b[0m\u001b[0;34m]\u001b[0m\u001b[0;34m\u001b[0m\u001b[0;34m\u001b[0m\u001b[0m\n\u001b[0m",
            "\u001b[0;32m/usr/local/lib/python3.6/dist-packages/pandas/core/generic.py\u001b[0m in \u001b[0;36m__delitem__\u001b[0;34m(self, key)\u001b[0m\n\u001b[1;32m   3514\u001b[0m             \u001b[0;31m# there was no match, this call should raise the appropriate\u001b[0m\u001b[0;34m\u001b[0m\u001b[0;34m\u001b[0m\u001b[0;34m\u001b[0m\u001b[0m\n\u001b[1;32m   3515\u001b[0m             \u001b[0;31m# exception:\u001b[0m\u001b[0;34m\u001b[0m\u001b[0;34m\u001b[0m\u001b[0;34m\u001b[0m\u001b[0m\n\u001b[0;32m-> 3516\u001b[0;31m             \u001b[0mself\u001b[0m\u001b[0;34m.\u001b[0m\u001b[0m_data\u001b[0m\u001b[0;34m.\u001b[0m\u001b[0mdelete\u001b[0m\u001b[0;34m(\u001b[0m\u001b[0mkey\u001b[0m\u001b[0;34m)\u001b[0m\u001b[0;34m\u001b[0m\u001b[0;34m\u001b[0m\u001b[0m\n\u001b[0m\u001b[1;32m   3517\u001b[0m \u001b[0;34m\u001b[0m\u001b[0m\n\u001b[1;32m   3518\u001b[0m         \u001b[0;31m# delete from the caches\u001b[0m\u001b[0;34m\u001b[0m\u001b[0;34m\u001b[0m\u001b[0;34m\u001b[0m\u001b[0m\n",
            "\u001b[0;32m/usr/local/lib/python3.6/dist-packages/pandas/core/internals/managers.py\u001b[0m in \u001b[0;36mdelete\u001b[0;34m(self, item)\u001b[0m\n\u001b[1;32m    994\u001b[0m         \u001b[0mDelete\u001b[0m \u001b[0mselected\u001b[0m \u001b[0mitem\u001b[0m \u001b[0;34m(\u001b[0m\u001b[0mitems\u001b[0m \u001b[0;32mif\u001b[0m \u001b[0mnon\u001b[0m\u001b[0;34m-\u001b[0m\u001b[0munique\u001b[0m\u001b[0;34m)\u001b[0m \u001b[0;32min\u001b[0m\u001b[0;34m-\u001b[0m\u001b[0mplace\u001b[0m\u001b[0;34m.\u001b[0m\u001b[0;34m\u001b[0m\u001b[0;34m\u001b[0m\u001b[0m\n\u001b[1;32m    995\u001b[0m         \"\"\"\n\u001b[0;32m--> 996\u001b[0;31m         \u001b[0mindexer\u001b[0m \u001b[0;34m=\u001b[0m \u001b[0mself\u001b[0m\u001b[0;34m.\u001b[0m\u001b[0mitems\u001b[0m\u001b[0;34m.\u001b[0m\u001b[0mget_loc\u001b[0m\u001b[0;34m(\u001b[0m\u001b[0mitem\u001b[0m\u001b[0;34m)\u001b[0m\u001b[0;34m\u001b[0m\u001b[0;34m\u001b[0m\u001b[0m\n\u001b[0m\u001b[1;32m    997\u001b[0m \u001b[0;34m\u001b[0m\u001b[0m\n\u001b[1;32m    998\u001b[0m         \u001b[0mis_deleted\u001b[0m \u001b[0;34m=\u001b[0m \u001b[0mnp\u001b[0m\u001b[0;34m.\u001b[0m\u001b[0mzeros\u001b[0m\u001b[0;34m(\u001b[0m\u001b[0mself\u001b[0m\u001b[0;34m.\u001b[0m\u001b[0mshape\u001b[0m\u001b[0;34m[\u001b[0m\u001b[0;36m0\u001b[0m\u001b[0;34m]\u001b[0m\u001b[0;34m,\u001b[0m \u001b[0mdtype\u001b[0m\u001b[0;34m=\u001b[0m\u001b[0mnp\u001b[0m\u001b[0;34m.\u001b[0m\u001b[0mbool_\u001b[0m\u001b[0;34m)\u001b[0m\u001b[0;34m\u001b[0m\u001b[0;34m\u001b[0m\u001b[0m\n",
            "\u001b[0;32m/usr/local/lib/python3.6/dist-packages/pandas/core/indexes/base.py\u001b[0m in \u001b[0;36mget_loc\u001b[0;34m(self, key, method, tolerance)\u001b[0m\n\u001b[1;32m   2897\u001b[0m                 \u001b[0;32mreturn\u001b[0m \u001b[0mself\u001b[0m\u001b[0;34m.\u001b[0m\u001b[0m_engine\u001b[0m\u001b[0;34m.\u001b[0m\u001b[0mget_loc\u001b[0m\u001b[0;34m(\u001b[0m\u001b[0mkey\u001b[0m\u001b[0;34m)\u001b[0m\u001b[0;34m\u001b[0m\u001b[0;34m\u001b[0m\u001b[0m\n\u001b[1;32m   2898\u001b[0m             \u001b[0;32mexcept\u001b[0m \u001b[0mKeyError\u001b[0m\u001b[0;34m:\u001b[0m\u001b[0;34m\u001b[0m\u001b[0;34m\u001b[0m\u001b[0m\n\u001b[0;32m-> 2899\u001b[0;31m                 \u001b[0;32mreturn\u001b[0m \u001b[0mself\u001b[0m\u001b[0;34m.\u001b[0m\u001b[0m_engine\u001b[0m\u001b[0;34m.\u001b[0m\u001b[0mget_loc\u001b[0m\u001b[0;34m(\u001b[0m\u001b[0mself\u001b[0m\u001b[0;34m.\u001b[0m\u001b[0m_maybe_cast_indexer\u001b[0m\u001b[0;34m(\u001b[0m\u001b[0mkey\u001b[0m\u001b[0;34m)\u001b[0m\u001b[0;34m)\u001b[0m\u001b[0;34m\u001b[0m\u001b[0;34m\u001b[0m\u001b[0m\n\u001b[0m\u001b[1;32m   2900\u001b[0m         \u001b[0mindexer\u001b[0m \u001b[0;34m=\u001b[0m \u001b[0mself\u001b[0m\u001b[0;34m.\u001b[0m\u001b[0mget_indexer\u001b[0m\u001b[0;34m(\u001b[0m\u001b[0;34m[\u001b[0m\u001b[0mkey\u001b[0m\u001b[0;34m]\u001b[0m\u001b[0;34m,\u001b[0m \u001b[0mmethod\u001b[0m\u001b[0;34m=\u001b[0m\u001b[0mmethod\u001b[0m\u001b[0;34m,\u001b[0m \u001b[0mtolerance\u001b[0m\u001b[0;34m=\u001b[0m\u001b[0mtolerance\u001b[0m\u001b[0;34m)\u001b[0m\u001b[0;34m\u001b[0m\u001b[0;34m\u001b[0m\u001b[0m\n\u001b[1;32m   2901\u001b[0m         \u001b[0;32mif\u001b[0m \u001b[0mindexer\u001b[0m\u001b[0;34m.\u001b[0m\u001b[0mndim\u001b[0m \u001b[0;34m>\u001b[0m \u001b[0;36m1\u001b[0m \u001b[0;32mor\u001b[0m \u001b[0mindexer\u001b[0m\u001b[0;34m.\u001b[0m\u001b[0msize\u001b[0m \u001b[0;34m>\u001b[0m \u001b[0;36m1\u001b[0m\u001b[0;34m:\u001b[0m\u001b[0;34m\u001b[0m\u001b[0;34m\u001b[0m\u001b[0m\n",
            "\u001b[0;32mpandas/_libs/index.pyx\u001b[0m in \u001b[0;36mpandas._libs.index.IndexEngine.get_loc\u001b[0;34m()\u001b[0m\n",
            "\u001b[0;32mpandas/_libs/index.pyx\u001b[0m in \u001b[0;36mpandas._libs.index.IndexEngine.get_loc\u001b[0;34m()\u001b[0m\n",
            "\u001b[0;32mpandas/_libs/hashtable_class_helper.pxi\u001b[0m in \u001b[0;36mpandas._libs.hashtable.PyObjectHashTable.get_item\u001b[0;34m()\u001b[0m\n",
            "\u001b[0;32mpandas/_libs/hashtable_class_helper.pxi\u001b[0m in \u001b[0;36mpandas._libs.hashtable.PyObjectHashTable.get_item\u001b[0;34m()\u001b[0m\n",
            "\u001b[0;31mKeyError\u001b[0m: 'Location'"
          ]
        }
      ]
    },
    {
      "cell_type": "code",
      "metadata": {
        "id": "27eKi22lirVz",
        "colab_type": "code",
        "colab": {}
      },
      "source": [
        ""
      ],
      "execution_count": 0,
      "outputs": []
    }
  ]
}